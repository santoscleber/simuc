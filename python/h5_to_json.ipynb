{
 "cells": [
  {
   "cell_type": "code",
   "execution_count": 1,
   "id": "df656a9b-d212-4622-9f89-475e35ea9ab8",
   "metadata": {},
   "outputs": [],
   "source": [
    "import h5py\n",
    "import numpy as np\n",
    "import json\n",
    "\n",
    "arquivo = r'Z:\\vol_250km_13steps.vol\\2025\\07\\08\\vol_250km_13steps.vol_sbbe_20250708161006_00.h5'\n",
    "output_json = 'refletividade.json'\n",
    "\n",
    "elevacao_em_graus = 1.8\n",
    "range_step = 240\n",
    "\n",
    "with h5py.File(arquivo, 'r') as f:\n",
    "    dataset = f['scan5/moment_0'][:]\n",
    "    refletividade = dataset.astype(np.float32) * 0.5 - 32\n",
    "    azimutes = np.linspace(0, 360, dataset.shape[0], endpoint=False).tolist()\n",
    "    alcances = (np.arange(dataset.shape[1]) * range_step).tolist()\n",
    "    data = {\n",
    "        \"azimutes\": azimutes,\n",
    "        \"alcances\": alcances,\n",
    "        \"refletividade\": refletividade.tolist()\n",
    "    }\n",
    "\n",
    "with open(output_json, 'w') as f:\n",
    "    json.dump(data, f)"
   ]
  },
  {
   "cell_type": "code",
   "execution_count": null,
   "id": "e55cd1b4-2692-437d-9c38-404b34dd22de",
   "metadata": {},
   "outputs": [],
   "source": []
  }
 ],
 "metadata": {
  "kernelspec": {
   "display_name": "Python 3 (ipykernel)",
   "language": "python",
   "name": "python3"
  },
  "language_info": {
   "codemirror_mode": {
    "name": "ipython",
    "version": 3
   },
   "file_extension": ".py",
   "mimetype": "text/x-python",
   "name": "python",
   "nbconvert_exporter": "python",
   "pygments_lexer": "ipython3",
   "version": "3.12.4"
  }
 },
 "nbformat": 4,
 "nbformat_minor": 5
}
