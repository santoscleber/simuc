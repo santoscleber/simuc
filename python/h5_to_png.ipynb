{
 "cells": [
  {
   "cell_type": "code",
   "execution_count": 3,
   "id": "df656a9b-d212-4622-9f89-475e35ea9ab8",
   "metadata": {},
   "outputs": [
    {
     "name": "stderr",
     "output_type": "stream",
     "text": [
      "C:\\Users\\cleber.santos\\AppData\\Local\\Temp\\ipykernel_15736\\3764862199.py:51: UserWarning: The input coordinates to pcolormesh are interpreted as cell centers, but are not monotonically increasing or decreasing. This may lead to incorrectly calculated cell edges, in which case, please supply explicit cell edges to pcolormesh.\n",
      "  plt.pcolormesh(lon, lat, refletividade, cmap='turbo', shading='auto', vmin=-32, vmax=64)\n"
     ]
    }
   ],
   "source": [
    "import h5py\n",
    "import numpy as np\n",
    "import matplotlib.pyplot as plt\n",
    "from pyproj import Geod\n",
    "\n",
    "# Caminho do arquivo HDF5\n",
    "arquivo = r'Z:\\vol_250km_13steps.vol\\2025\\07\\08\\vol_250km_13steps.vol_sbbe_20250708171006_00.h5'\n",
    "\n",
    "# Parâmetros fixos\n",
    "range_step = 240  # metros por bin\n",
    "geod = Geod(ellps='WGS84')\n",
    "\n",
    "with h5py.File(arquivo, 'r') as f:\n",
    "    # === LER DADOS DE REFLETIVIDADE ===\n",
    "    dataset = f['scan5/moment_0'][:]\n",
    "    refletividade = dataset.astype(np.float32) * 0.5 - 32\n",
    "\n",
    "    # === LER LATITUDE E LONGITUDE DO RADAR DE /where ===\n",
    "    lat_radar = f['where'].attrs['lat']\n",
    "    lon_radar = f['where'].attrs['lon']\n",
    "\n",
    "    # === CRIAR GRELHA POLAR ===\n",
    "    azimutes = np.deg2rad(np.linspace(0, 360, dataset.shape[0], endpoint=False))\n",
    "    alcances = np.arange(dataset.shape[1]) * range_step\n",
    "    AZ, R = np.meshgrid(azimutes, alcances, indexing='ij')\n",
    "    x = R * np.sin(AZ)\n",
    "    y = R * np.cos(AZ)\n",
    "\n",
    "# === MASCARAR VALORES INVÁLIDOS ===\n",
    "refletividade = np.ma.masked_where(refletividade <= -32, refletividade)\n",
    "\n",
    "# === CONVERTER (x, y) PARA LAT/LON USANDO pyproj ===\n",
    "x_flat = x.ravel()\n",
    "y_flat = y.ravel()\n",
    "az_flat = np.rad2deg(np.arctan2(x_flat, y_flat))\n",
    "dist_flat = np.sqrt(x_flat**2 + y_flat**2)\n",
    "n = len(x_flat)\n",
    "\n",
    "lat_radar_array = np.full(n, lat_radar)\n",
    "lon_radar_array = np.full(n, lon_radar)\n",
    "\n",
    "lon_flat, lat_flat, _ = geod.fwd(lon_radar_array, lat_radar_array, az_flat, dist_flat)\n",
    "lon = lon_flat.reshape(x.shape)\n",
    "lat = lat_flat.reshape(y.shape)\n",
    "\n",
    "# === PLOTAR REFLETIVIDADE SEM EIXOS OU LEGENDA ===\n",
    "fig, ax = plt.subplots(figsize=(10, 10))\n",
    "ax.set_position([0, 0, 1, 1])\n",
    "ax.axis('off')\n",
    "\n",
    "plt.pcolormesh(lon, lat, refletividade, cmap='turbo', shading='auto', vmin=-32, vmax=64)\n",
    "\n",
    "# SALVAR COMO IMAGEM PNG (com fundo transparente)\n",
    "plt.savefig('refletividade_georef.png', dpi=300, bbox_inches='tight', pad_inches=0, transparent=True)\n",
    "plt.close()\n"
   ]
  },
  {
   "cell_type": "code",
   "execution_count": null,
   "id": "e55cd1b4-2692-437d-9c38-404b34dd22de",
   "metadata": {},
   "outputs": [],
   "source": []
  }
 ],
 "metadata": {
  "kernelspec": {
   "display_name": "Python 3 (ipykernel)",
   "language": "python",
   "name": "python3"
  },
  "language_info": {
   "codemirror_mode": {
    "name": "ipython",
    "version": 3
   },
   "file_extension": ".py",
   "mimetype": "text/x-python",
   "name": "python",
   "nbconvert_exporter": "python",
   "pygments_lexer": "ipython3",
   "version": "3.12.4"
  }
 },
 "nbformat": 4,
 "nbformat_minor": 5
}
